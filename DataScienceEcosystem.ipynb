{
 "cells": [
  {
   "cell_type": "markdown",
   "id": "3886a87a-69fa-4992-bd1f-2122ee07b48c",
   "metadata": {},
   "source": [
    "# Data Science Tools and Ecosystem"
   ]
  },
  {
   "cell_type": "markdown",
   "id": "5643c377-c518-4301-8cee-d8e1a31baa48",
   "metadata": {},
   "source": [
    "In this notebook, Data Science Tools and Ecosystem are summarized."
   ]
  },
  {
   "cell_type": "markdown",
   "id": "e6231ec6-3e88-4cba-b113-06613f5eac0c",
   "metadata": {},
   "source": [
    "**Objectives:**\n",
    "- List of popular Data Science languages\n",
    "- List of commonly used Data Science libraries\n",
    "- List of popular Data Science tools"
   ]
  },
  {
   "cell_type": "markdown",
   "id": "cce14f26-d12d-45ca-a422-ae2fea98e21d",
   "metadata": {},
   "source": [
    "Some of the popular languages that Data Scientists use are:\n",
    "1. Python\n",
    "2. R\n",
    "3. SQL"
   ]
  },
  {
   "cell_type": "markdown",
   "id": "3a7b34a8-9c59-4fb4-b3a3-a88db1859a6e",
   "metadata": {},
   "source": [
    "Some of the commonly used libraries used by Data Scientists include:\n",
    "1. TensorFlow\n",
    "2. Pandas\n",
    "3. PyTorch\n",
    "4. NumPy"
   ]
  },
  {
   "cell_type": "markdown",
   "id": "43ae7769-05a3-4035-b9c4-48c666ac0a86",
   "metadata": {},
   "source": [
    "| Data Science Tools |\n",
    "|----|\n",
    "| Jupyter Notebooks |\n",
    "| Rstudio |\n",
    "| GitHub |"
   ]
  },
  {
   "cell_type": "markdown",
   "id": "e6a31b92-ff91-47fe-a48a-ac207ac6f4d5",
   "metadata": {},
   "source": [
    "### Below are a few examples of evaluating arithmetic expressions in Python"
   ]
  },
  {
   "cell_type": "code",
   "execution_count": 1,
   "id": "f8dff876-706c-41aa-8504-e00a41f40169",
   "metadata": {},
   "outputs": [
    {
     "data": {
      "text/plain": [
       "17"
      ]
     },
     "execution_count": 1,
     "metadata": {},
     "output_type": "execute_result"
    }
   ],
   "source": [
    "# This a simple arithmetic expression to mutiply then add integers\n",
    "(3*4)+5"
   ]
  },
  {
   "cell_type": "code",
   "execution_count": 2,
   "id": "36b90e15-47a8-4dad-ad1d-ecd8e8b9e2c2",
   "metadata": {},
   "outputs": [
    {
     "data": {
      "text/plain": [
       "3.3333333333333335"
      ]
     },
     "execution_count": 2,
     "metadata": {},
     "output_type": "execute_result"
    }
   ],
   "source": [
    "# This will convert 200 minutes to hours by diving by 60\n",
    "200/60"
   ]
  },
  {
   "cell_type": "markdown",
   "id": "66b68de6-971d-4720-a0f5-277a80e1622a",
   "metadata": {},
   "source": [
    "## Author\n",
    "Matjaž Pogorelec"
   ]
  },
  {
   "cell_type": "code",
   "execution_count": null,
   "id": "b4fcc32c-299b-4e63-b282-ac4461e48229",
   "metadata": {},
   "outputs": [],
   "source": []
  }
 ],
 "metadata": {
  "kernelspec": {
   "display_name": "Python 3 (ipykernel)",
   "language": "python",
   "name": "python3"
  },
  "language_info": {
   "codemirror_mode": {
    "name": "ipython",
    "version": 3
   },
   "file_extension": ".py",
   "mimetype": "text/x-python",
   "name": "python",
   "nbconvert_exporter": "python",
   "pygments_lexer": "ipython3",
   "version": "3.11.5"
  }
 },
 "nbformat": 4,
 "nbformat_minor": 5
}
